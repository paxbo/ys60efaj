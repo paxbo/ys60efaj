{
 "cells": [
  {
   "cell_type": "code",
   "execution_count": null,
   "id": "493f53d1-58ec-47a3-a0cf-0fbec0030cb4",
   "metadata": {},
   "outputs": [],
   "source": [
    "Go back to the Git Bash and write\n",
    "\n",
    "git addA\n",
    "\n",
    "This line will add all our files to the queue and prepares them to commit. Then\n",
    "\n",
    "git commit\n",
    "m “comments: committing my first package”\n",
    "This command will prepare all your files to be pushed. \n",
    "\n",
    "#TODO: Add a comment to the commit to track what was changed\n",
    "\n",
    "Finally,\n",
    "git push\n",
    "In this case, you will push the files committed in your repository. You need then to follow the\n",
    "instructions for adding your credentials to access GitHub."
   ]
  }
 ],
 "metadata": {
  "kernelspec": {
   "display_name": "myvenv",
   "language": "python",
   "name": "myvenv"
  },
  "language_info": {
   "codemirror_mode": {
    "name": "ipython",
    "version": 3
   },
   "file_extension": ".py",
   "mimetype": "text/x-python",
   "name": "python",
   "nbconvert_exporter": "python",
   "pygments_lexer": "ipython3",
   "version": "3.9.5"
  }
 },
 "nbformat": 4,
 "nbformat_minor": 5
}
