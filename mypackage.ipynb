{
 "cells": [
  {
   "cell_type": "code",
   "execution_count": null,
   "id": "493f53d1-58ec-47a3-a0cf-0fbec0030cb4",
   "metadata": {},
   "outputs": [],
   "source": [
    "Go back to the Git Bash and write\n",
    "\n",
    "git addA\n",
    "\n",
    "This line will add all our files to the queue and prepares them to commit. Then\n",
    "\n",
    "git commit\n",
    "m “comments: committing my first package”\n",
    "This command will prepare all your files to be pushed. \n",
    "\n",
    "#TODO: Add a comment to the commit to track what was changed\n",
    "\n",
    "Finally,\n",
    "git push\n",
    "In this case, you will push the files committed in your repository. You need then to follow the\n",
    "instructions for adding your credentials to access GitHub.\n",
    "\n",
    "\n"
   ]
  },
  {
   "cell_type": "code",
   "execution_count": 31,
   "id": "90bc6844-6d4f-410a-a0eb-d56fc99d0648",
   "metadata": {},
   "outputs": [
    {
     "data": {
      "application/vnd.jupyter.widget-view+json": {
       "model_id": "576347a74e7a465d96ad8178e152b2dd",
       "version_major": 2,
       "version_minor": 0
      },
      "text/plain": [
       "interactive(children=(IntSlider(value=996, description='width', max=2000, min=1, step=5), IntSlider(value=996,…"
      ]
     },
     "metadata": {},
     "output_type": "display_data"
    }
   ],
   "source": [
    "import numpy as np\n",
    "from ipywidgets import interact, fixed\n",
    "from PIL import Image\n",
    "\n",
    "def imshow(X,width, height):\n",
    "    \"\"\"\n",
    "    You should create a way to resize an image from an array X.\n",
    "    The use of widgets is optional but you can take a look to interact.\n",
    "    We should be able to install this package in Google Colab from your Git\n",
    "    repo.\n",
    "    \"\"\"\n",
    "    myImage = Image.fromarray(X)\n",
    "    myNewImage = myImage.resize((width,height))\n",
    "    print(\"Image size: {}\".format(myNewImage.size))\n",
    "    myNewImage.show()\n",
    "    #np.random.rand(100,100)\n",
    "    interact(imshow,X=fixed(X), width=(1,2000,5), height=(1, 2000, 5));"
   ]
  },
  {
   "cell_type": "code",
   "execution_count": null,
   "id": "4f99cba5-f8be-475f-a5da-522461c012c0",
   "metadata": {},
   "outputs": [],
   "source": []
  }
 ],
 "metadata": {
  "kernelspec": {
   "display_name": "myvenv",
   "language": "python",
   "name": "myvenv"
  },
  "language_info": {
   "codemirror_mode": {
    "name": "ipython",
    "version": 3
   },
   "file_extension": ".py",
   "mimetype": "text/x-python",
   "name": "python",
   "nbconvert_exporter": "python",
   "pygments_lexer": "ipython3",
   "version": "3.9.5"
  }
 },
 "nbformat": 4,
 "nbformat_minor": 5
}
